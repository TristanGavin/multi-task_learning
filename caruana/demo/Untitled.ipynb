{
 "cells": [
  {
   "cell_type": "markdown",
   "id": "a84ddf5e",
   "metadata": {},
   "source": [
    "\n",
    "Task 1 = B1      OR  Parity(B2-B8)\n",
    "Task 2 = not(B1) OR  Parity(B2-B8)\n",
    "Task 3 = B1      AND Parity(B2-B8)\n",
    "Task 4 = not(B1) AND Parity(B2-B8)\n"
   ]
  }
 ],
 "metadata": {
  "kernelspec": {
   "display_name": "Python 3 (ipykernel)",
   "language": "python",
   "name": "python3"
  },
  "language_info": {
   "codemirror_mode": {
    "name": "ipython",
    "version": 3
   },
   "file_extension": ".py",
   "mimetype": "text/x-python",
   "name": "python",
   "nbconvert_exporter": "python",
   "pygments_lexer": "ipython3",
   "version": "3.9.6"
  }
 },
 "nbformat": 4,
 "nbformat_minor": 5
}
