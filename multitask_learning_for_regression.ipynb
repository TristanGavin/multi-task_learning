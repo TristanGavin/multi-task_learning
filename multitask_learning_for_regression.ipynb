{
 "cells": [
  {
   "cell_type": "markdown",
   "id": "3dc1501f",
   "metadata": {},
   "source": [
    "# Multi-task learning for regression\n",
    "\n",
    "## Motivation for MTL\n",
    "\n",
    "<img src=\"http://nicksenger.com/onecatholiclife/wp-content/uploads/2016/08/KarateKid_WaxOnWaxOff.jpg\" alt=\"drawing\" width=\"400\"/>\n",
    "\n",
    "Knowledge in one task can give insight and assist in learning another\n",
    "\n",
    "learning tasks in parrallel while using a shared representation\n",
    "\n",
    "### Insufficient Data\n",
    "\n",
    "### Form of regularization\n",
    "\n",
    "Multi-task learning works because regularization induced by requiring an algorithm to perform well on a related task can be superior to regularization that prevents overfitting by penalizing all complexity uniformly.\n",
    "\n",
    "### Reduced Training Time \n",
    "\n",
    "Instead of having to train many different models for each task we are able to train one model for all tasks.\n",
    "\n",
    "## Problems with MTL\n",
    "\n",
    "### negative transfer \n",
    "\n",
    "### dominating tasks\n",
    "\n",
    "### more complicated loss function\n",
    "\n",
    "as a result of multiple summed losses\n",
    "\n",
    "## MTL for Classification\n",
    "\n",
    "lots of examples. spam, computer vision, autonomous vehicles...\n",
    "\n",
    "\n"
   ]
  },
  {
   "cell_type": "code",
   "execution_count": null,
   "id": "51725fad",
   "metadata": {},
   "outputs": [],
   "source": []
  }
 ],
 "metadata": {
  "kernelspec": {
   "display_name": "Python 3 (ipykernel)",
   "language": "python",
   "name": "python3"
  },
  "language_info": {
   "codemirror_mode": {
    "name": "ipython",
    "version": 3
   },
   "file_extension": ".py",
   "mimetype": "text/x-python",
   "name": "python",
   "nbconvert_exporter": "python",
   "pygments_lexer": "ipython3",
   "version": "3.9.6"
  }
 },
 "nbformat": 4,
 "nbformat_minor": 5
}
